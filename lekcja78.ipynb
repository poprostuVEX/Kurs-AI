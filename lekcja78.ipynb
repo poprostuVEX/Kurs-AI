{
  "nbformat": 4,
  "nbformat_minor": 0,
  "metadata": {
    "colab": {
      "provenance": [],
      "authorship_tag": "ABX9TyPIeBRdI3VZ1x9eFkhilnwq",
      "include_colab_link": true
    },
    "kernelspec": {
      "name": "python3",
      "display_name": "Python 3"
    },
    "language_info": {
      "name": "python"
    }
  },
  "cells": [
    {
      "cell_type": "markdown",
      "metadata": {
        "id": "view-in-github",
        "colab_type": "text"
      },
      "source": [
        "<a href=\"https://colab.research.google.com/github/poprostuVEX/Kurs-AI/blob/main/lekcja78.ipynb\" target=\"_parent\"><img src=\"https://colab.research.google.com/assets/colab-badge.svg\" alt=\"Open In Colab\"/></a>"
      ]
    },
    {
      "cell_type": "code",
      "execution_count": 8,
      "metadata": {
        "colab": {
          "base_uri": "https://localhost:8080/"
        },
        "id": "tVvEk5Lh9yAY",
        "outputId": "d0b812fe-2967-49ac-c267-6ffa81c7845b"
      },
      "outputs": [
        {
          "output_type": "stream",
          "name": "stdout",
          "text": [
            "[[ 1  2  3  4  5  6]\n",
            " [ 7  8  9 10 11 12]]\n",
            "(2, 6)\n"
          ]
        }
      ],
      "source": [
        "import numpy as np\n",
        "\n",
        "array = np.array([1,2,3,4,5,6,7,8,9,10,11,12])\n",
        "#print(array)\n",
        "#print(np.shape(array))\n",
        "array2x6 = array.reshape(2,6)\n",
        "print(array2x6)\n",
        "print(np.shape(array2x6))\n"
      ]
    },
    {
      "cell_type": "code",
      "source": [
        "import numpy as np\n",
        "unsorted = np.array([5,1,4,6,7,8,22,2,-9,0])\n",
        "print(unsorted)\n",
        "sorted=np.sort(unsorted)\n",
        "print(sorted)"
      ],
      "metadata": {
        "colab": {
          "base_uri": "https://localhost:8080/"
        },
        "id": "Q_fUpnziEvkD",
        "outputId": "cc5515d4-8c27-4abc-ebc0-63afab76c356"
      },
      "execution_count": 9,
      "outputs": [
        {
          "output_type": "stream",
          "name": "stdout",
          "text": [
            "[ 5  1  4  6  7  8 22  2 -9  0]\n",
            "[-9  0  1  2  4  5  6  7  8 22]\n"
          ]
        }
      ]
    },
    {
      "cell_type": "code",
      "source": [
        "unsorted2D= np.array([5,1,4,6,7,8,22,2,-9,0[2,3,5,3,-55,444,3]])\n",
        "sorted2D_axis1 = np.sort(unsorted2D,axis=1)\n",
        "print(f\"Tablica posortowana wzdłuż krawędzi 1:\\n{sorted2D_axis1}\")"
      ],
      "metadata": {
        "colab": {
          "base_uri": "https://localhost:8080/",
          "height": 245
        },
        "id": "C64x6g4DIccz",
        "outputId": "27d54e2a-baa6-4c37-d60f-413868806284"
      },
      "execution_count": 11,
      "outputs": [
        {
          "output_type": "stream",
          "name": "stderr",
          "text": [
            "<>:1: SyntaxWarning: 'int' object is not subscriptable; perhaps you missed a comma?\n",
            "<>:1: SyntaxWarning: 'int' object is not subscriptable; perhaps you missed a comma?\n",
            "/tmp/ipython-input-116640249.py:1: SyntaxWarning: 'int' object is not subscriptable; perhaps you missed a comma?\n",
            "  unsorted2D= np.array([5,1,4,6,7,8,22,2,-9,0[2,3,5,3,-55,444,3]])\n"
          ]
        },
        {
          "output_type": "error",
          "ename": "TypeError",
          "evalue": "'int' object is not subscriptable",
          "traceback": [
            "\u001b[0;31m---------------------------------------------------------------------------\u001b[0m",
            "\u001b[0;31mTypeError\u001b[0m                                 Traceback (most recent call last)",
            "\u001b[0;32m/tmp/ipython-input-116640249.py\u001b[0m in \u001b[0;36m<cell line: 0>\u001b[0;34m()\u001b[0m\n\u001b[0;32m----> 1\u001b[0;31m \u001b[0munsorted2D\u001b[0m\u001b[0;34m=\u001b[0m \u001b[0mnp\u001b[0m\u001b[0;34m.\u001b[0m\u001b[0marray\u001b[0m\u001b[0;34m(\u001b[0m\u001b[0;34m[\u001b[0m\u001b[0;36m5\u001b[0m\u001b[0;34m,\u001b[0m\u001b[0;36m1\u001b[0m\u001b[0;34m,\u001b[0m\u001b[0;36m4\u001b[0m\u001b[0;34m,\u001b[0m\u001b[0;36m6\u001b[0m\u001b[0;34m,\u001b[0m\u001b[0;36m7\u001b[0m\u001b[0;34m,\u001b[0m\u001b[0;36m8\u001b[0m\u001b[0;34m,\u001b[0m\u001b[0;36m22\u001b[0m\u001b[0;34m,\u001b[0m\u001b[0;36m2\u001b[0m\u001b[0;34m,\u001b[0m\u001b[0;34m-\u001b[0m\u001b[0;36m9\u001b[0m\u001b[0;34m,\u001b[0m\u001b[0;36m0\u001b[0m\u001b[0;34m[\u001b[0m\u001b[0;36m2\u001b[0m\u001b[0;34m,\u001b[0m\u001b[0;36m3\u001b[0m\u001b[0;34m,\u001b[0m\u001b[0;36m5\u001b[0m\u001b[0;34m,\u001b[0m\u001b[0;36m3\u001b[0m\u001b[0;34m,\u001b[0m\u001b[0;34m-\u001b[0m\u001b[0;36m55\u001b[0m\u001b[0;34m,\u001b[0m\u001b[0;36m444\u001b[0m\u001b[0;34m,\u001b[0m\u001b[0;36m3\u001b[0m\u001b[0;34m]\u001b[0m\u001b[0;34m]\u001b[0m\u001b[0;34m)\u001b[0m\u001b[0;34m\u001b[0m\u001b[0;34m\u001b[0m\u001b[0m\n\u001b[0m\u001b[1;32m      2\u001b[0m \u001b[0msorted2D_axis1\u001b[0m \u001b[0;34m=\u001b[0m \u001b[0mnp\u001b[0m\u001b[0;34m.\u001b[0m\u001b[0msort\u001b[0m\u001b[0;34m(\u001b[0m\u001b[0munsorted2D\u001b[0m\u001b[0;34m,\u001b[0m\u001b[0maxis\u001b[0m\u001b[0;34m=\u001b[0m\u001b[0;36m1\u001b[0m\u001b[0;34m)\u001b[0m\u001b[0;34m\u001b[0m\u001b[0;34m\u001b[0m\u001b[0m\n\u001b[1;32m      3\u001b[0m \u001b[0mprint\u001b[0m\u001b[0;34m(\u001b[0m\u001b[0;34mf\"Tablica posortowana wzdłuż krawędzi 1:\\n{sorted2D_axis1}\"\u001b[0m\u001b[0;34m)\u001b[0m\u001b[0;34m\u001b[0m\u001b[0;34m\u001b[0m\u001b[0m\n",
            "\u001b[0;31mTypeError\u001b[0m: 'int' object is not subscriptable"
          ]
        }
      ]
    },
    {
      "cell_type": "code",
      "source": [
        "from numpy import random\n",
        "for i in range (10):\n",
        "  print(random.rand()*2 - 1)"
      ],
      "metadata": {
        "colab": {
          "base_uri": "https://localhost:8080/"
        },
        "id": "20f4hhMJKOei",
        "outputId": "65263930-0c87-4cc2-d3aa-05b68068ba2a"
      },
      "execution_count": 143,
      "outputs": [
        {
          "output_type": "stream",
          "name": "stdout",
          "text": [
            "-0.3598368873481599\n",
            "0.20012931200142936\n",
            "0.5895351104554836\n",
            "-0.918988113091924\n",
            "0.32143145155284425\n",
            "-0.2581400069375668\n",
            "-0.44200108469158983\n",
            "-0.5632037987479626\n",
            "-0.30314408199598697\n",
            "0.3949815479663843\n"
          ]
        }
      ]
    },
    {
      "cell_type": "code",
      "source": [
        "dates = [1241, 972, 1605, 1444, 1683]"
      ],
      "metadata": {
        "id": "XaY0hEUfNRTD"
      },
      "execution_count": 137,
      "outputs": []
    },
    {
      "cell_type": "code",
      "source": [
        "array1D = np.array([1,2,3,4,5,6,7,8,9])\n",
        "print(array1D[2:5])"
      ],
      "metadata": {
        "colab": {
          "base_uri": "https://localhost:8080/"
        },
        "id": "dbmjESVVOjLB",
        "outputId": "4991145d-ecfd-4e54-856f-3752e9ab30e3"
      },
      "execution_count": 144,
      "outputs": [
        {
          "output_type": "stream",
          "name": "stdout",
          "text": [
            "[3 4 5]\n"
          ]
        }
      ]
    },
    {
      "cell_type": "code",
      "source": [
        "array2D = np.array([[7, 2, 9],\n",
        "              [4, 8, 1],\n",
        "              [5, 6, 3]])\n",
        "\n",
        "for i in np.nditer(array2D):\n",
        "  print(i)\n"
      ],
      "metadata": {
        "colab": {
          "base_uri": "https://localhost:8080/"
        },
        "id": "kBfxv29sP6RG",
        "outputId": "edf482a6-6c47-48ec-e366-c4747ff772d1"
      },
      "execution_count": 147,
      "outputs": [
        {
          "output_type": "stream",
          "name": "stdout",
          "text": [
            "7\n",
            "2\n",
            "9\n",
            "4\n",
            "8\n",
            "1\n",
            "5\n",
            "6\n",
            "3\n"
          ]
        }
      ]
    },
    {
      "cell_type": "code",
      "source": [
        "binary_mask= np.where(array2D %2==0)\n",
        "print(binary_mask)\n",
        "print(array2D)\n"
      ],
      "metadata": {
        "colab": {
          "base_uri": "https://localhost:8080/"
        },
        "id": "LnR33LrvQ-Yq",
        "outputId": "9ac5fe8c-ce0d-40f2-c125-90333933b51b"
      },
      "execution_count": 151,
      "outputs": [
        {
          "output_type": "stream",
          "name": "stdout",
          "text": [
            "(array([0, 1, 1, 2]), array([1, 0, 1, 1]))\n",
            "[[7 2 9]\n",
            " [4 8 1]\n",
            " [5 6 3]]\n"
          ]
        }
      ]
    }
  ]
}